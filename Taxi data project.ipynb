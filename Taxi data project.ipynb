{
 "cells": [
  {
   "cell_type": "markdown",
   "id": "5e845e37",
   "metadata": {},
   "source": [
    "# Project: Taxi Data"
   ]
  },
  {
   "cell_type": "markdown",
   "id": "7995b2ea",
   "metadata": {},
   "source": [
    "# 1) Importing and cleaning the data"
   ]
  },
  {
   "cell_type": "code",
   "execution_count": null,
   "id": "f7f3c223",
   "metadata": {},
   "outputs": [],
   "source": [
    "import pandas as pd\n",
    "col_dtypes = {'pickup_weekday': 'int16', \n",
    "              'pickup_hour': 'int16', \n",
    "              'pickup_longitude': 'float32', \n",
    "              'pickup_latitude': 'float32', \n",
    "              'dropoff_longitude': 'float32', \n",
    "              'dropoff_latitude': 'float32', \n",
    "              'passenger_count': 'int16', \n",
    "              'trip_distance': 'float32', \n",
    "              'fare_amount': 'float32', \n",
    "              'tip_amount': 'float32', \n",
    "              'tolls_amount': 'float32', \n",
    "              'payment_type': 'int16'}\n",
    "df = pd.read_csv('2016_Yellow_Taxi_prepared.csv', dtype=col_dtypes)"
   ]
  },
  {
   "cell_type": "code",
   "execution_count": null,
   "id": "97544760",
   "metadata": {},
   "outputs": [],
   "source": [
    "import numpy as np\n",
    "\n",
    "df.isna().sum()\n",
    "df.describe()"
   ]
  },
  {
   "cell_type": "code",
   "execution_count": null,
   "id": "350c0de1",
   "metadata": {},
   "outputs": [],
   "source": [
    "jfk_max_lat=40.66018    #Maximum pickup latitude for airport journeys\n",
    "jfk_min_lat=40.62666    #Minimum pickup latitude for airport journeys\n",
    "jfk_max_long=-73.76599  #Maximum pickup longitude for airport journeys\n",
    "jfk_min_long=-73.80822  #Minimum pickup longitude for airport journeys\n",
    "\n",
    "nyc_max_lat=40.9176     #Maximum latitude for New York City\n",
    "nyc_min_lat=40.5774     #Minimum latitude for New York City\n",
    "nyc_max_long=-73.7004 #Maximum longitude for New York City\n",
    "nyc_min_long=-74.15   #Minimum longitude for New York City"
   ]
  },
  {
   "cell_type": "markdown",
   "id": "189de5be",
   "metadata": {},
   "source": [
    "# 2) Selecting data"
   ]
  },
  {
   "cell_type": "code",
   "execution_count": null,
   "id": "7073b45c",
   "metadata": {},
   "outputs": [],
   "source": [
    "mask_jfk_longitude = (df.loc[:,'pickup_longitude'] >= jfk_min_long ) & (df.loc[:,'pickup_longitude'] <= jfk_max_long)\n",
    "mask_jfk_latitude = (df.loc[:,'pickup_latitude'] >= jfk_min_lat ) & (df.loc[:,'pickup_latitude'] <= jfk_max_lat)\n",
    "\n",
    "\n",
    "df_jfk_lang = df.loc[mask_jfk_longitude,'pickup_longitude']\n",
    "df_jfk_lat = df.loc[mask_jfk_latitude,'pickup_latitude']\n",
    "\n",
    "print(df_jfk_lang.shape[0],df_jfk_lat.shape[0])"
   ]
  },
  {
   "cell_type": "markdown",
   "id": "c4a5e2e7",
   "metadata": {},
   "source": [
    "# 3) Proportion of taxis from the airport"
   ]
  },
  {
   "cell_type": "code",
   "execution_count": null,
   "id": "d9f7131b",
   "metadata": {},
   "outputs": [],
   "source": [
    "proportion_jfk = df_jfk_lat.shape[0] / df.shape[0]\n",
    "\n",
    "print('proportion of all taxi journeys start at the airport is {} %'.format(proportion_jfk*100))"
   ]
  },
  {
   "cell_type": "markdown",
   "id": "a79002e0",
   "metadata": {},
   "source": [
    "# 4) Visualizing the starting points"
   ]
  },
  {
   "cell_type": "code",
   "execution_count": null,
   "id": "14d1c366",
   "metadata": {},
   "outputs": [],
   "source": [
    "%matplotlib inline \n",
    "import matplotlib.pyplot as plt\n",
    "import seaborn as sns\n",
    "fig, ax = plt.subplots()\n",
    "\n",
    "sns.scatterplot(data=df, x='pickup_longitude', y='pickup_latitude', alpha=0.1, s=2, ax=ax)\n",
    "ax.set_xlim(nyc_min_long,nyc_max_long)\n",
    "ax.set_ylim(nyc_min_lat,nyc_max_lat)\n",
    "plt.axis('off');\n",
    "# ann.remove\n",
    "ann = ax.annotate(s='JFK airport', xy=[-73.81, 40.63], xytext=[-73.93, 40.6],arrowprops=dict(facecolor='black'))\n",
    "ax.set(title='Taxi pick-ups in New York');"
   ]
  },
  {
   "cell_type": "markdown",
   "id": "6d58d1ec",
   "metadata": {},
   "source": [
    "# 5) Proportion of airport taxis on each day"
   ]
  },
  {
   "cell_type": "code",
   "execution_count": null,
   "id": "20b87fec",
   "metadata": {},
   "outputs": [],
   "source": [
    "df_week_all = pd.crosstab(index=df.loc[:,'pickup_weekday'], columns='count',normalize='all')\n",
    "\n",
    "df_week_jfk_air_crosstab = pd.crosstab(index=df.loc[mask_jfk_latitude,'pickup_weekday'], columns='count',normalize='all')\n",
    "\n",
    "for i in [df_week_all, df_week_jfk_air_crosstab]:\n",
    "    i.index=['Mon','Tue','Wed','Thu','Fri','Sat','Sun']\n",
    "\n",
    "print(df_week_all,'\\n',df_week_jfk_air_crosstab)"
   ]
  },
  {
   "cell_type": "markdown",
   "id": "26eb54e1",
   "metadata": {},
   "source": [
    "# 6) Proportion of journeys on each day of the week from all locations and those starting from the airport"
   ]
  },
  {
   "cell_type": "code",
   "execution_count": null,
   "id": "3f3a568f",
   "metadata": {},
   "outputs": [],
   "source": [
    "import seaborn as sns\n",
    "fig, ax = plt.subplots(nrows=1,ncols=2,figsize=[20,6],sharey=True)\n",
    "\n",
    "\n",
    "# colors = {'Mon':'blue','Tue':'red','Wed':'orange','Thu':'green','Fri':'gray','Sat':'purple','Sun':'navy'}\n",
    "color=['blue','red','orange','green','gray','purple','navy']\n",
    "\n",
    "sns.barplot(data=df_week_all, ax=ax[0], x=df_week_all.index, y='count',palette=color)\n",
    "sns.barplot(data=df_week_jfk_air_crosstab, ax=ax[1], x=df_week_all.index, y='count',palette=color)\n",
    "\n",
    "# plt.bar(df_week_all.index, df_week_all.iloc[:,0], color=['blue','red','orange','green','gray','purple','navy'])\n",
    "ax[0].set(title='Proportion of journeys per week day',xlabel='Day of the week',ylabel='Proportion of journeys')\n",
    "ax[0].set_ylim(0,0.2) \n",
    "\n",
    "ax[1].set(title='Proportion of airport journeys per week day',xlabel='Day of the week',ylabel='');"
   ]
  },
  {
   "cell_type": "markdown",
   "id": "6e12e2cc",
   "metadata": {},
   "source": [
    "# 7) Proportion each hour for all journeys and journeys from the airport"
   ]
  },
  {
   "cell_type": "code",
   "execution_count": null,
   "id": "d2d55c2c",
   "metadata": {},
   "outputs": [],
   "source": [
    "traffic_all = pd.crosstab(index=df.loc[:,'pickup_hour'], columns='count', normalize='all')\n",
    "\n",
    "traffic_jfk_air= pd.crosstab(index=df.loc[mask_jfk_latitude,'pickup_hour'], columns='count', normalize='all')"
   ]
  },
  {
   "cell_type": "code",
   "execution_count": null,
   "id": "55946886",
   "metadata": {},
   "outputs": [],
   "source": [
    "plt.style.use('fivethirtyeight')\n",
    "fig, ax = plt.subplots(nrows=1,ncols=2,figsize=[20,6],sharey=True)\n",
    "\n",
    "traffic_all.loc[:,'count'].plot(ax=ax[0])\n",
    "traffic_jfk_air.loc[:,'count'].plot(ax=ax[1])\n",
    "\n",
    "fig.subplots_adjust(wspace=0.03, hspace=0)\n",
    "\n",
    "ax[0].set(title='Proportion each hour for all journeys',ylabel='Proportion of journeys',xlabel='Hour')\n",
    "ax[1].set(title='Proportion each hour for all airport journeys',xlabel='Hour');"
   ]
  },
  {
   "cell_type": "markdown",
   "id": "ee057521",
   "metadata": {},
   "source": [
    "# 8) Making a recommendation"
   ]
  },
  {
   "cell_type": "code",
   "execution_count": null,
   "id": "d8d743c6",
   "metadata": {},
   "outputs": [],
   "source": [
    "# Considering of makind recommendations,\n",
    "# high demand for more taxis ar the airport is closely at 5-6 clock(for early flights)\n",
    "# between 10-15 it is better to emphasize more taxis in the city\n",
    "# and closer to 15-16 get more cars to the airport, as there is higher need that in nyc"
   ]
  }
 ],
 "metadata": {
  "kernelspec": {
   "display_name": "Python 3 (ipykernel)",
   "language": "python",
   "name": "python3"
  },
  "language_info": {
   "codemirror_mode": {
    "name": "ipython",
    "version": 3
   },
   "file_extension": ".py",
   "mimetype": "text/x-python",
   "name": "python",
   "nbconvert_exporter": "python",
   "pygments_lexer": "ipython3",
   "version": "3.8.10"
  }
 },
 "nbformat": 4,
 "nbformat_minor": 5
}
